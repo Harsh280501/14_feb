{
 "cells": [
  {
   "cell_type": "markdown",
   "id": "af77793b-d5f9-4fdc-a85c-404021e166ed",
   "metadata": {},
   "source": [
    "# Q1 What is multithreading in python? W\n",
    "hy is it used? Name the module used to handle threads in python"
   ]
  },
  {
   "cell_type": "markdown",
   "id": "b71607a3-f8b2-48a7-9cc6-6ae07b29e34d",
   "metadata": {},
   "source": [
    "\n",
    "A thread is an entity within a process that can be scheduled for execution. Also, it is the smallest unit of processing that can be performed in an OS (Operating System). In simple words, a thread is a sequence of such instructions within a program that can be executed independently of other code\n",
    "The module that handle thread is \"threading\"\n",
    "\n",
    "\n",
    "# import threading"
   ]
  },
  {
   "cell_type": "markdown",
   "id": "e7609dcb-5d1c-4c11-ace4-e80cfc15157a",
   "metadata": {},
   "source": [
    "# Q2 Why threading module used? rite the use of the following function\n",
    "( activeCount\n",
    " currentThread\n",
    " enumerate)"
   ]
  },
  {
   "cell_type": "markdown",
   "id": "21355469-583b-4eb5-80db-f31b8345b6b1",
   "metadata": {},
   "source": [
    "\n",
    "The newer threading module included with Python 2.4 provides much more powerful, high-level support for threads than the thread module discussed in the previous section.\n",
    "\n",
    "The threading module exposes all the methods of the thread module and provides some additional methods −\n",
    "\n",
    "threading.activeCount() − Returns the number of thread objects that are active.\n",
    "\n",
    "\n",
    "threading.currentThread() − Returns the number of thread objects in the caller's thread control.\n",
    "\n",
    "threading.enumerate() − Returns a list of all thread objects that are currently active.\n"
   ]
  },
  {
   "cell_type": "markdown",
   "id": "c00cc73c-99a6-4b2f-8570-eb10b9154b50",
   "metadata": {},
   "source": [
    "# Q3. Explain the following functions\n",
    "( run\n",
    " start\n",
    " join\n",
    " isAlive)"
   ]
  },
  {
   "cell_type": "markdown",
   "id": "c25ea84f-3e59-4bd5-85a5-6454b63e472c",
   "metadata": {},
   "source": [
    "\n",
    "run()  − The run() method is the entry point for a thread.\n",
    "\n",
    "\n",
    "start()  − The start() method starts a thread by calling the run method.\n",
    "\n",
    "\n",
    "join()  − The join() waits for threads to terminate.\n",
    "\n",
    "\n",
    "isAlive()  − The isAlive() method checks whether a thread is still executing.\n"
   ]
  },
  {
   "cell_type": "markdown",
   "id": "0a11e4cf-b858-4788-81b1-38ffdc3245b6",
   "metadata": {},
   "source": [
    "# Q4 Write a python program to create two threads. Thread one must print the list of squares and thread two must print the list of cubes"
   ]
  },
  {
   "cell_type": "code",
   "execution_count": 1,
   "id": "8e9b33bf-8144-4c19-b665-994f05e34bef",
   "metadata": {},
   "outputs": [
    {
     "name": "stdout",
     "output_type": "stream",
     "text": [
      " Calculate the square root of the given number\n",
      " Square is :  16\n",
      " Square is :  25\n",
      " Square is :  36\n",
      " Square is :  49\n",
      " Square is :  4\n",
      " Calculate the cube of  the given number\n",
      " Cube is :  64\n",
      " Cube is :  125\n",
      " Cube is :  216\n",
      " Cube is :  343\n",
      " Cube is :  8\n"
     ]
    }
   ],
   "source": [
    "import threading  \n",
    "  \n",
    "  \n",
    "    \n",
    "def cal_sqre(num):  \n",
    "    print(\" Calculate the square root of the given number\")  \n",
    "    for n in num:   \n",
    " \n",
    "        print(' Square is : ', n * n)  \n",
    "\n",
    "def cal_cube(num):  \n",
    "    print(\" Calculate the cube of  the given number\")  \n",
    "    for n in num:   \n",
    "\n",
    "        print(\" Cube is : \", n * n *n)  \n",
    "  \n",
    "    \n",
    "arr = [4, 5, 6, 7, 2]   \n",
    "  \n",
    "\n",
    "cal_sqre(arr)   \n",
    "cal_cube(arr)  \n"
   ]
  },
  {
   "cell_type": "markdown",
   "id": "3e0c9ffd-e935-4e4c-95fe-67dc1f89e9fc",
   "metadata": {},
   "source": [
    "# Q5. State advantages and disadvantages of multithreading"
   ]
  },
  {
   "cell_type": "markdown",
   "id": "9c6793c3-043a-4b89-843f-29b434da12b4",
   "metadata": {},
   "source": [
    "# Advantages\n",
    "1)Responsivness\n",
    "2)Resource Sharing\n",
    "3)Economy\n",
    "4)Scalibilty \n",
    "\n",
    "\n",
    "# Disadvantages\n",
    "\n",
    "\n",
    "It needs more careful synchronization.\n",
    "It can consume a large space of stocks of blocked threads.\n",
    "It needs support for thread or process.\n",
    "If a parent process has several threads for proper process functioning, the child processes should also be multithreaded because they may be required.\n",
    "It imposes context switching overhead.\n",
    "\n",
    "\n"
   ]
  },
  {
   "cell_type": "markdown",
   "id": "0fb9f9d6-8f27-4e21-9b98-ad526e1bd601",
   "metadata": {},
   "source": [
    "# Q6. Explain deadlocks and race conditions."
   ]
  },
  {
   "cell_type": "markdown",
   "id": "636083cb-f209-49e2-bf4f-df42f5ced420",
   "metadata": {},
   "source": [
    "# Deadlock\n",
    "Deadlock is a situation where a process or a set of processes is blocked, waiting for some other resource that is held by some other waiting process. It is an undesirable state of the system. The following are the four conditions that must hold simultaneously for a deadlock to occur.\n",
    "\n",
    "# Race Condition\n",
    "\n",
    "A race condition is a situation that may occur inside a critical section. This happens when the result of multiple thread execution in critical section differs according to the order in which the threads execute. Race conditions in critical sections can be avoided if the critical section is treated as an atomic instruction."
   ]
  }
 ],
 "metadata": {
  "kernelspec": {
   "display_name": "Python 3 (ipykernel)",
   "language": "python",
   "name": "python3"
  },
  "language_info": {
   "codemirror_mode": {
    "name": "ipython",
    "version": 3
   },
   "file_extension": ".py",
   "mimetype": "text/x-python",
   "name": "python",
   "nbconvert_exporter": "python",
   "pygments_lexer": "ipython3",
   "version": "3.10.8"
  }
 },
 "nbformat": 4,
 "nbformat_minor": 5
}
